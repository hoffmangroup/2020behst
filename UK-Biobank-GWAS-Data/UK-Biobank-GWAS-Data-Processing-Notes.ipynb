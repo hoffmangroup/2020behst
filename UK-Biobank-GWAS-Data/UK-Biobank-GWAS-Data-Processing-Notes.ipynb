{
 "cells": [
  {
   "cell_type": "markdown",
   "id": "0ae86961",
   "metadata": {},
   "source": [
    "1. Download data\n",
    "    - Find download address from [Pan-UK Biobank phenotype manifest](https://docs.google.com/spreadsheets/d/1AeeADtT0U1AukliiNyiVzVRdLYPkTbruQSk38DeutU8/edit#gid=511623409)\n",
    "        - Basophil count: phenocode 30160\n",
    "        - `wget https://pan-ukb-us-east-1.s3.amazonaws.com/sumstats_flat_files/continuous-30160-both_sexes.tsv.bgz`\n",
    "        \n",
    "2. Select positions where pval_meta <= 10^-8\n",
    "3. Change from 1-coordinate to 0-coordinate\n",
    "4. Add 1k bp extension on both sides to get 2k bp region\n",
    "\n",
    "Code: `./process_ukbb_data.sh continuous-30160-both_sexes.tsv.bgz basophil_selected_col.txt basophil_sig.bed`"
   ]
  }
 ],
 "metadata": {
  "kernelspec": {
   "display_name": "Python 3 (ipykernel)",
   "language": "python",
   "name": "python3"
  },
  "language_info": {
   "codemirror_mode": {
    "name": "ipython",
    "version": 3
   },
   "file_extension": ".py",
   "mimetype": "text/x-python",
   "name": "python",
   "nbconvert_exporter": "python",
   "pygments_lexer": "ipython3",
   "version": "3.7.6"
  }
 },
 "nbformat": 4,
 "nbformat_minor": 5
}
